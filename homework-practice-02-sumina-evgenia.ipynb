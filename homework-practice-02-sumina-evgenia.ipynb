{
 "cells": [
  {
   "cell_type": "markdown",
   "metadata": {},
   "source": [
    "## Машинное обучение, ВМК МГУ\n",
    "\n",
    "## Практическое задание 2\n",
    "\n",
    "### Общая информация\n",
    "Дата выдачи: 7 октября 2020\n",
    "\n",
    "Максимальная оценка: 10 баллов + 1 бонусный балл\n",
    "\n",
    "Мягкий дедлайн: 23:59MSK 20 октября\n",
    "\n",
    "Жесткий дедлайн: 23:59MSK 27 октября."
   ]
  },
  {
   "cell_type": "markdown",
   "metadata": {},
   "source": [
    "### О задании\n",
    "\n",
    "В этом задании вы:\n",
    "- Познакомитесь с методом решения задачи регрессии на основе метода ближайших соседей.\n",
    "- Реализуете алгоритм kNN для задачи регрессии.\n",
    "- Изучите методы работы с категориальными и текстовыми переменными.\n",
    "\n",
    "\n",
    "### Оценивание и штрафы\n",
    "Каждая из задач имеет определенную «стоимость» (указана в скобках около задачи). Максимально допустимая оценка за работу — 10 баллов.\n",
    "\n",
    "Сдавать задание после указанного срока сдачи нельзя. При выставлении неполного балла за задание в связи с наличием ошибок на усмотрение проверяющего предусмотрена возможность исправить работу на указанных в ответном письме условиях.\n",
    "\n",
    "Задание выполняется самостоятельно. «Похожие» решения считаются плагиатом и все задействованные студенты (в том числе те, у кого списали) не могут получить за него больше 0 баллов (подробнее о плагиате см. на странице курса). Если вы нашли решение какого-то из заданий (или его часть) в открытом источнике, необходимо указать ссылку на этот источник в отдельном блоке в конце вашей работы (скорее всего вы будете не единственным, кто это нашел, поэтому чтобы исключить подозрение в плагиате, необходима ссылка на источник).\n",
    "\n",
    "Неэффективная реализация кода может негативно отразиться на оценке.\n",
    "\n",
    "\n",
    "### Формат сдачи\n",
    "Для сдачи задания переименуйте получившийся файл *.ipynb в соответствии со следующим форматом: homework-practice-02-Username.ipynb, где Username — ваша фамилия и имя на латинице именно в таком порядке (например, homework-practice-02-ivanov.ipynb).\n",
    "\n",
    "Далее отправьте этот файл на anytask в соответсвующий раздел."
   ]
  },
  {
   "cell_type": "code",
   "execution_count": 109,
   "metadata": {},
   "outputs": [],
   "source": [
    "import numpy as np\n",
    "import pandas as pd\n",
    "from sklearn.metrics import mean_squared_error, accuracy_score\n",
    "import matplotlib.pyplot as plt\n",
    "import seaborn as sns\n",
    "import scipy.sparse as sp"
   ]
  },
  {
   "cell_type": "markdown",
   "metadata": {},
   "source": [
    "Все эксперименты в этой лабораторной работе предлагается проводить на данных соревнования New York City Airbnb Open Data: https://www.kaggle.com/dgomonov/new-york-city-airbnb-open-data#AB_NYC_2019.csv\n",
    "\n",
    "В данной задаче предлагается предсказать цену на съем квартиры в зависимости от её параметров."
   ]
  },
  {
   "cell_type": "code",
   "execution_count": 42,
   "metadata": {
    "scrolled": false
   },
   "outputs": [
    {
     "data": {
      "text/html": [
       "<div>\n",
       "<style scoped>\n",
       "    .dataframe tbody tr th:only-of-type {\n",
       "        vertical-align: middle;\n",
       "    }\n",
       "\n",
       "    .dataframe tbody tr th {\n",
       "        vertical-align: top;\n",
       "    }\n",
       "\n",
       "    .dataframe thead th {\n",
       "        text-align: right;\n",
       "    }\n",
       "</style>\n",
       "<table border=\"1\" class=\"dataframe\">\n",
       "  <thead>\n",
       "    <tr style=\"text-align: right;\">\n",
       "      <th></th>\n",
       "      <th>id</th>\n",
       "      <th>name</th>\n",
       "      <th>host_id</th>\n",
       "      <th>host_name</th>\n",
       "      <th>neighbourhood_group</th>\n",
       "      <th>neighbourhood</th>\n",
       "      <th>latitude</th>\n",
       "      <th>longitude</th>\n",
       "      <th>room_type</th>\n",
       "      <th>price</th>\n",
       "      <th>minimum_nights</th>\n",
       "      <th>number_of_reviews</th>\n",
       "      <th>last_review</th>\n",
       "      <th>reviews_per_month</th>\n",
       "      <th>calculated_host_listings_count</th>\n",
       "      <th>availability_365</th>\n",
       "    </tr>\n",
       "  </thead>\n",
       "  <tbody>\n",
       "    <tr>\n",
       "      <td>0</td>\n",
       "      <td>2539</td>\n",
       "      <td>Clean &amp; quiet apt home by the park</td>\n",
       "      <td>2787</td>\n",
       "      <td>John</td>\n",
       "      <td>Brooklyn</td>\n",
       "      <td>Kensington</td>\n",
       "      <td>40.64749</td>\n",
       "      <td>-73.97237</td>\n",
       "      <td>Private room</td>\n",
       "      <td>149</td>\n",
       "      <td>1</td>\n",
       "      <td>9</td>\n",
       "      <td>2018-10-19</td>\n",
       "      <td>0.21</td>\n",
       "      <td>6</td>\n",
       "      <td>365</td>\n",
       "    </tr>\n",
       "    <tr>\n",
       "      <td>1</td>\n",
       "      <td>2595</td>\n",
       "      <td>Skylit Midtown Castle</td>\n",
       "      <td>2845</td>\n",
       "      <td>Jennifer</td>\n",
       "      <td>Manhattan</td>\n",
       "      <td>Midtown</td>\n",
       "      <td>40.75362</td>\n",
       "      <td>-73.98377</td>\n",
       "      <td>Entire home/apt</td>\n",
       "      <td>225</td>\n",
       "      <td>1</td>\n",
       "      <td>45</td>\n",
       "      <td>2019-05-21</td>\n",
       "      <td>0.38</td>\n",
       "      <td>2</td>\n",
       "      <td>355</td>\n",
       "    </tr>\n",
       "    <tr>\n",
       "      <td>2</td>\n",
       "      <td>3647</td>\n",
       "      <td>THE VILLAGE OF HARLEM....NEW YORK !</td>\n",
       "      <td>4632</td>\n",
       "      <td>Elisabeth</td>\n",
       "      <td>Manhattan</td>\n",
       "      <td>Harlem</td>\n",
       "      <td>40.80902</td>\n",
       "      <td>-73.94190</td>\n",
       "      <td>Private room</td>\n",
       "      <td>150</td>\n",
       "      <td>3</td>\n",
       "      <td>0</td>\n",
       "      <td>NaN</td>\n",
       "      <td>NaN</td>\n",
       "      <td>1</td>\n",
       "      <td>365</td>\n",
       "    </tr>\n",
       "    <tr>\n",
       "      <td>3</td>\n",
       "      <td>3831</td>\n",
       "      <td>Cozy Entire Floor of Brownstone</td>\n",
       "      <td>4869</td>\n",
       "      <td>LisaRoxanne</td>\n",
       "      <td>Brooklyn</td>\n",
       "      <td>Clinton Hill</td>\n",
       "      <td>40.68514</td>\n",
       "      <td>-73.95976</td>\n",
       "      <td>Entire home/apt</td>\n",
       "      <td>89</td>\n",
       "      <td>1</td>\n",
       "      <td>270</td>\n",
       "      <td>2019-07-05</td>\n",
       "      <td>4.64</td>\n",
       "      <td>1</td>\n",
       "      <td>194</td>\n",
       "    </tr>\n",
       "    <tr>\n",
       "      <td>4</td>\n",
       "      <td>5022</td>\n",
       "      <td>Entire Apt: Spacious Studio/Loft by central park</td>\n",
       "      <td>7192</td>\n",
       "      <td>Laura</td>\n",
       "      <td>Manhattan</td>\n",
       "      <td>East Harlem</td>\n",
       "      <td>40.79851</td>\n",
       "      <td>-73.94399</td>\n",
       "      <td>Entire home/apt</td>\n",
       "      <td>80</td>\n",
       "      <td>10</td>\n",
       "      <td>9</td>\n",
       "      <td>2018-11-19</td>\n",
       "      <td>0.10</td>\n",
       "      <td>1</td>\n",
       "      <td>0</td>\n",
       "    </tr>\n",
       "  </tbody>\n",
       "</table>\n",
       "</div>"
      ],
      "text/plain": [
       "     id                                              name  host_id  \\\n",
       "0  2539                Clean & quiet apt home by the park     2787   \n",
       "1  2595                             Skylit Midtown Castle     2845   \n",
       "2  3647               THE VILLAGE OF HARLEM....NEW YORK !     4632   \n",
       "3  3831                   Cozy Entire Floor of Brownstone     4869   \n",
       "4  5022  Entire Apt: Spacious Studio/Loft by central park     7192   \n",
       "\n",
       "     host_name neighbourhood_group neighbourhood  latitude  longitude  \\\n",
       "0         John            Brooklyn    Kensington  40.64749  -73.97237   \n",
       "1     Jennifer           Manhattan       Midtown  40.75362  -73.98377   \n",
       "2    Elisabeth           Manhattan        Harlem  40.80902  -73.94190   \n",
       "3  LisaRoxanne            Brooklyn  Clinton Hill  40.68514  -73.95976   \n",
       "4        Laura           Manhattan   East Harlem  40.79851  -73.94399   \n",
       "\n",
       "         room_type  price  minimum_nights  number_of_reviews last_review  \\\n",
       "0     Private room    149               1                  9  2018-10-19   \n",
       "1  Entire home/apt    225               1                 45  2019-05-21   \n",
       "2     Private room    150               3                  0         NaN   \n",
       "3  Entire home/apt     89               1                270  2019-07-05   \n",
       "4  Entire home/apt     80              10                  9  2018-11-19   \n",
       "\n",
       "   reviews_per_month  calculated_host_listings_count  availability_365  \n",
       "0               0.21                               6               365  \n",
       "1               0.38                               2               355  \n",
       "2                NaN                               1               365  \n",
       "3               4.64                               1               194  \n",
       "4               0.10                               1                 0  "
      ]
     },
     "execution_count": 42,
     "metadata": {},
     "output_type": "execute_result"
    }
   ],
   "source": [
    "data = pd.read_csv('AB_NYC_2019.csv')\n",
    "data.head()"
   ]
  },
  {
   "cell_type": "markdown",
   "metadata": {},
   "source": [
    "Сразу исключим колонки 'id' и 'host_id', т.к. это может способствовать переобученности модели. В колонке 'host_id' не все значения уникальны, но они слишком различаются, поэтому не принесут особой пользы."
   ]
  },
  {
   "cell_type": "code",
   "execution_count": 43,
   "metadata": {},
   "outputs": [],
   "source": [
    "data = data.drop(columns=['id'])\n",
    "data = data.drop(columns=['host_id'])"
   ]
  },
  {
   "cell_type": "code",
   "execution_count": 44,
   "metadata": {},
   "outputs": [
    {
     "data": {
      "text/plain": [
       "(48895, 14)"
      ]
     },
     "execution_count": 44,
     "metadata": {},
     "output_type": "execute_result"
    }
   ],
   "source": [
    "data.shape"
   ]
  },
  {
   "cell_type": "code",
   "execution_count": 45,
   "metadata": {},
   "outputs": [
    {
     "name": "stdout",
     "output_type": "stream",
     "text": [
      "name 47906\n",
      "host_name 11453\n",
      "neighbourhood_group 5\n",
      "neighbourhood 221\n",
      "latitude 19048\n",
      "longitude 14718\n",
      "room_type 3\n",
      "price 674\n",
      "minimum_nights 109\n",
      "number_of_reviews 394\n",
      "last_review 1765\n",
      "reviews_per_month 938\n",
      "calculated_host_listings_count 47\n",
      "availability_365 366\n"
     ]
    }
   ],
   "source": [
    "# число значений у признаков\n",
    "for col_name in data.columns:\n",
    "    print(col_name, len(data[col_name].unique()))"
   ]
  },
  {
   "cell_type": "code",
   "execution_count": 46,
   "metadata": {},
   "outputs": [
    {
     "data": {
      "text/plain": [
       "name                                 16\n",
       "host_name                            21\n",
       "neighbourhood_group                   0\n",
       "neighbourhood                         0\n",
       "latitude                              0\n",
       "longitude                             0\n",
       "room_type                             0\n",
       "price                                 0\n",
       "minimum_nights                        0\n",
       "number_of_reviews                     0\n",
       "last_review                       10052\n",
       "reviews_per_month                 10052\n",
       "calculated_host_listings_count        0\n",
       "availability_365                      0\n",
       "dtype: int64"
      ]
     },
     "execution_count": 46,
     "metadata": {},
     "output_type": "execute_result"
    }
   ],
   "source": [
    "data.isna().sum()"
   ]
  },
  {
   "cell_type": "markdown",
   "metadata": {},
   "source": [
    "Как видите, в данных есть пропуски. Не забудьте обработать их"
   ]
  },
  {
   "cell_type": "code",
   "execution_count": 47,
   "metadata": {},
   "outputs": [],
   "source": [
    "data.fillna({'name': '', 'host_name': '', 'last_review': '', 'reviews_per_month': 0}, inplace=True)"
   ]
  },
  {
   "cell_type": "markdown",
   "metadata": {},
   "source": [
    "Разобъем данные на обучение и контроль."
   ]
  },
  {
   "cell_type": "code",
   "execution_count": 48,
   "metadata": {
    "scrolled": false
   },
   "outputs": [],
   "source": [
    "from sklearn.model_selection import train_test_split\n",
    "X_train, X_test, y_train, y_test = train_test_split(data.drop(columns=['price']), data[['price']],\n",
    "                                                    test_size=0.3, random_state=241)"
   ]
  },
  {
   "cell_type": "markdown",
   "metadata": {},
   "source": [
    "## Часть 1: Алгоритм kNN в задаче регрессии"
   ]
  },
  {
   "cell_type": "markdown",
   "metadata": {},
   "source": [
    "<b> 1.1 (1.5 балла) </b>\n",
    "Реализуйте класс `KNNRegressor`, который используя метод k ближайших соседей решает задачу регрессии. Для решение данной задачи, необходимо найти $N_k$ - k соседей, и после использовать значения их целевых переменных для предсказания:\n",
    "\\begin{align}\n",
    "y = \\frac{1}{k}\\sum_{n \\in N_k}w_n y_n,\n",
    "\\end{align}\n",
    "\n",
    "где $w_n$ - вес каждого соседа. \n",
    "\n",
    "При этом `KNNRegressor` может работать в 2 режимах:\n",
    " - $uniform$ - ближайшие соседи учитываются с одинаковыми весами.\n",
    " - $distance$ - вес ближайших соседей зависит от расстояния\n",
    " \n",
    "**Сигнатуру методов, классов, функции при желании можно менять.**"
   ]
  },
  {
   "cell_type": "code",
   "execution_count": 142,
   "metadata": {},
   "outputs": [],
   "source": [
    "from typing import Union, Callable, Iterable, Optional\n",
    "from sklearn.neighbors import NearestNeighbors, KNeighborsClassifier\n",
    "\n",
    "\n",
    "class KNNRegressor:\n",
    "    def __init__(self, n_neighbors: int, metric: Union[str, Callable], mode: str='uniform', metric_params=None):\n",
    "        \"\"\"\n",
    "        params:\n",
    "            n_neighbors: number of neighbors\n",
    "            metric: metric to use for distance computation\n",
    "            mode: 'uniform' or 'distance'\n",
    "            'uniform' - all points in each neighborhood are weighted equally\n",
    "            'distance' - weight points by the inverse of their distance\n",
    "        \"\"\"\n",
    "        self.__nn = NearestNeighbors(n_neighbors=n_neighbors, metric=metric, metric_params=metric_params)\n",
    "        self.__mode = mode\n",
    "        self.__n_neighbors = n_neighbors\n",
    "        \n",
    "\n",
    "    def fit(self, X: np.array, y: np.array) -> None:\n",
    "        \"\"\"\n",
    "            X: data\n",
    "            y: labels\n",
    "        \"\"\"\n",
    "        self.y = np.array(y)\n",
    "        self.__nn.fit(X)\n",
    "        \n",
    "    def predict(self, X: np.array, n_neighbors: Optional[int] = None):\n",
    "        \"\"\"\n",
    "            X: data\n",
    "            n_neighbors: number of neighbors\n",
    "        \"\"\"\n",
    "        if n_neighbors == None:\n",
    "            n = self.__n_neighbors\n",
    "        else:\n",
    "            n = n_neighbors\n",
    "        distance, nearest_neighbors = self.__nn.kneighbors(X, n_neighbors=n)\n",
    "        i = 0\n",
    "        predict = np.zeros(X.shape[0])\n",
    "        for row in nearest_neighbors:\n",
    "            if self.__mode == 'distance':\n",
    "                w = list(map(lambda x: 1 / (x + 10 ** (-5)), distance[i]))\n",
    "                predict[i] = np.sum(self.y[row] * w) / np.sum(w)\n",
    "            elif self.__mode == 'uniform':\n",
    "                predict[i] = np.mean(self.y[row])\n",
    "            i += 1\n",
    "        return predict"
   ]
  },
  {
   "cell_type": "markdown",
   "metadata": {},
   "source": [
    "## Часть 2: Категориальные признаки"
   ]
  },
  {
   "cell_type": "code",
   "execution_count": 50,
   "metadata": {},
   "outputs": [],
   "source": [
    "import sklearn.neighbors\n",
    "import sklearn.metrics\n",
    "\n",
    "vbrute = sklearn.neighbors.VALID_METRICS['brute']\n",
    "vmetrics = sklearn.metrics.pairwise._VALID_METRICS\n",
    "pairwise = sklearn.metrics.pairwise.PAIRWISE_DISTANCE_FUNCTIONS\n",
    "\n",
    "def install_metric(f):\n",
    "    name = f.__name__\n",
    "    if name not in vbrute:\n",
    "        vbrute.append(name)\n",
    "    if name not in vmetrics:\n",
    "        vmetrics.append(name)\n",
    "\n",
    "    pairwise[name] = f\n",
    "    return f"
   ]
  },
  {
   "cell_type": "markdown",
   "metadata": {},
   "source": [
    "<b>2.1 (1 балл)</b>\n",
    "Реализуйте три функции расстояния на категориальных признаках _(в этом задании только на них!)_ , которые обсуждались на [втором семинаре](https://github.com/mmp-mmro-team/mmp_mmro_fall_2020/blob/master/seminars/sem02_knn.pdf). Не забудьте, что KNNRegressor должен уметь работать с этими функциями расстояния. Как вариант, можно реализовать метрики как [user-defined distance](http://scikit-learn.org/stable/modules/generated/sklearn.neighbors.DistanceMetric.html)."
   ]
  },
  {
   "cell_type": "code",
   "execution_count": 51,
   "metadata": {},
   "outputs": [],
   "source": [
    "@install_metric\n",
    "def overlap(x, z):\n",
    "    array = []\n",
    "    x = np.array(x)\n",
    "    z = np.array(z)\n",
    "    return ((x[:, None, :] != z[None, :, :])).sum(axis=-1)\n",
    "\n",
    "@install_metric\n",
    "def flattened_overlap(x, z, p_array):\n",
    "    x = np.array(x)\n",
    "    z = np.array(z)\n",
    "    dist = np.zeros((x.shape[0], z.shape[0]))\n",
    "    i = 0\n",
    "    for elem in x:\n",
    "        sum_1 = np.sum((elem != z), axis=1)\n",
    "        p = []\n",
    "        for j in range(x.shape[1]):\n",
    "            if elem[j] in p_array[j]:\n",
    "                p.append(p_array[j][elem[j]])\n",
    "            else:\n",
    "                p.append(0)\n",
    "        sum_2 = np.sum((elem == z) * p, axis=1)\n",
    "        dist[i] = sum_1 + sum_2\n",
    "        i += 1\n",
    "    return np.array(dist)\n",
    "\n",
    "@install_metric\n",
    "def log_overlap(x, z, f_x, f_z):\n",
    "    x = np.array(x)\n",
    "    z = np.array(z)\n",
    "    dist = np.zeros((x.shape[0], z.shape[0]))\n",
    "    i = 0\n",
    "    for elem in x:\n",
    "        new_dist = (elem != z) * np.log(f_x[i] + 1) * np.log(f_z[i] + 1)\n",
    "        dist[i] = np.sum(new_dist, axis = 1)\n",
    "        i += 1\n",
    "    return dist"
   ]
  },
  {
   "cell_type": "code",
   "execution_count": 52,
   "metadata": {},
   "outputs": [],
   "source": [
    "def p_found(x):\n",
    "    result = []\n",
    "    for i in range(x.shape[1]):\n",
    "        uniq, count = np.unique(x[:, i], return_counts=True)\n",
    "        ind = np.argsort(count)\n",
    "        uniq = uniq[ind]\n",
    "        p = count * (count - 1) / x.shape[0] / (x.shape[0] - 1)\n",
    "        p = np.cumsum(p[ind])\n",
    "        result.append(dict(zip(uniq, p)))\n",
    "    return result"
   ]
  },
  {
   "cell_type": "markdown",
   "metadata": {},
   "source": [
    "<b>2.2 (1 балл)</b> Найдите все категориальные признаки в данных. Подсчитайте для каждой из метрик качество на тестовой выборке `X_test` при числе соседей $k = 10$. Качество измеряйте с помощью RMSE.\n",
    "\n",
    "Какая функция расстояния оказалась лучшей? Почему?"
   ]
  },
  {
   "cell_type": "markdown",
   "metadata": {},
   "source": [
    "Еще раз посмотрим на данные и на то, сколько уникальных значений есть в каждом столбце."
   ]
  },
  {
   "cell_type": "code",
   "execution_count": 53,
   "metadata": {},
   "outputs": [
    {
     "name": "stdout",
     "output_type": "stream",
     "text": [
      "name 47906\n",
      "host_name 11453\n",
      "neighbourhood_group 5\n",
      "neighbourhood 221\n",
      "latitude 19048\n",
      "longitude 14718\n",
      "room_type 3\n",
      "price 674\n",
      "minimum_nights 109\n",
      "number_of_reviews 394\n",
      "last_review 1765\n",
      "reviews_per_month 938\n",
      "calculated_host_listings_count 47\n",
      "availability_365 366\n"
     ]
    }
   ],
   "source": [
    "for col_name in data.columns:\n",
    "    print(col_name, len(data[col_name].unique()))"
   ]
  },
  {
   "cell_type": "markdown",
   "metadata": {},
   "source": [
    "Из этого сделаем вывод, что категориальными являются признаки host_id, neighbourhood_group, room_type, host_name и neighbourhood."
   ]
  },
  {
   "cell_type": "code",
   "execution_count": 54,
   "metadata": {},
   "outputs": [],
   "source": [
    "categorical = ['neighbourhood_group', 'room_type', 'host_name', 'neighbourhood']"
   ]
  },
  {
   "cell_type": "code",
   "execution_count": 55,
   "metadata": {},
   "outputs": [],
   "source": [
    "from sklearn.preprocessing import OrdinalEncoder\n",
    "\n",
    "enc = OrdinalEncoder()\n",
    "enc = enc.fit(data[categorical])\n",
    "X_categor_train = enc.transform(X_train[categorical])\n",
    "X_categor_test = enc.transform(X_test[categorical])"
   ]
  },
  {
   "cell_type": "code",
   "execution_count": 56,
   "metadata": {},
   "outputs": [],
   "source": [
    "regressor = KNNRegressor(n_neighbors=10, metric='overlap', mode='uniform')\n",
    "regressor.fit(X_categor_train, y_train)\n",
    "y_pred = regressor.predict(X_categor_test)"
   ]
  },
  {
   "cell_type": "code",
   "execution_count": 57,
   "metadata": {},
   "outputs": [
    {
     "data": {
      "text/plain": [
       "215.36188612194348"
      ]
     },
     "execution_count": 57,
     "metadata": {},
     "output_type": "execute_result"
    }
   ],
   "source": [
    "np.sqrt(mean_squared_error(y_test, y_pred))"
   ]
  },
  {
   "cell_type": "code",
   "execution_count": 58,
   "metadata": {},
   "outputs": [],
   "source": [
    "f_x = np.zeros(X_categor_train.shape)\n",
    "f_z = np.zeros(X_categor_train.shape)\n",
    "i = 0\n",
    "for elem in X_categor_train:\n",
    "    f_x[i] = np.sum(X_categor_train == elem, axis=0)\n",
    "    f_z[i] = np.sum(X_categor_test == elem, axis=0)\n",
    "    i += 1"
   ]
  },
  {
   "cell_type": "code",
   "execution_count": 59,
   "metadata": {},
   "outputs": [],
   "source": [
    "p_array = p_found(X_categor_train)"
   ]
  },
  {
   "cell_type": "code",
   "execution_count": 60,
   "metadata": {},
   "outputs": [],
   "source": [
    "regressor = KNNRegressor(n_neighbors=10, metric='flattened_overlap', mode='uniform', \n",
    "                         metric_params={\"p_array\": p_array})\n",
    "regressor.fit(X_categor_train, y_train)\n",
    "y_pred = regressor.predict(X_categor_test)"
   ]
  },
  {
   "cell_type": "code",
   "execution_count": 61,
   "metadata": {},
   "outputs": [
    {
     "data": {
      "text/plain": [
       "208.58447344062247"
      ]
     },
     "execution_count": 61,
     "metadata": {},
     "output_type": "execute_result"
    }
   ],
   "source": [
    "np.sqrt(mean_squared_error(y_test, y_pred))"
   ]
  },
  {
   "cell_type": "code",
   "execution_count": 62,
   "metadata": {},
   "outputs": [],
   "source": [
    "regressor = KNNRegressor(n_neighbors=10, metric='log_overlap', mode='uniform', metric_params={\"f_x\": f_x, \"f_z\": f_z})\n",
    "regressor.fit(X_categor_train, y_train)\n",
    "y_pred = regressor.predict(X_categor_test)"
   ]
  },
  {
   "cell_type": "code",
   "execution_count": 63,
   "metadata": {},
   "outputs": [
    {
     "data": {
      "text/plain": [
       "212.20956951422968"
      ]
     },
     "execution_count": 63,
     "metadata": {},
     "output_type": "execute_result"
    }
   ],
   "source": [
    "np.sqrt(mean_squared_error(y_test, y_pred))"
   ]
  },
  {
   "cell_type": "markdown",
   "metadata": {},
   "source": [
    "Лучшей функцией расстояния оказалась flattened overlap. Это объясняется спецификой наших данных: в качестве категориальных выбраны район и группа районов. В таком случае более редкие признаки дадут больше информации модели."
   ]
  },
  {
   "cell_type": "markdown",
   "metadata": {},
   "source": [
    "<b>2.3 (1 балл) бонус</b> Подберите лучшее (на тестовой выборке) число соседей $k$ для каждой из функций расстояния. Какого удалось достичь уровня качества?"
   ]
  },
  {
   "cell_type": "code",
   "execution_count": 64,
   "metadata": {},
   "outputs": [
    {
     "name": "stdout",
     "output_type": "stream",
     "text": [
      "k =  1 \trmse =  267.0569413291095 \n",
      "\n",
      "k =  2 \trmse =  229.86387326368035 \n",
      "\n",
      "k =  3 \trmse =  217.2944275416622 \n",
      "\n",
      "k =  4 \trmse =  235.4118300684533 \n",
      "\n",
      "k =  5 \trmse =  227.96194832645 \n",
      "\n",
      "k =  6 \trmse =  227.35013399603537 \n",
      "\n",
      "k =  7 \trmse =  222.29910805760005 \n",
      "\n",
      "k =  8 \trmse =  218.44802873776663 \n",
      "\n",
      "k =  9 \trmse =  216.78002276102873 \n",
      "\n",
      "k =  10 \trmse =  215.36188612194348 \n",
      "\n"
     ]
    }
   ],
   "source": [
    "for k in range(1, 11):\n",
    "    regressor = KNNRegressor(n_neighbors=k, metric='overlap', mode='uniform')\n",
    "    regressor.fit(X_categor_train, y_train)\n",
    "    y_pred = regressor.predict(X_categor_test)\n",
    "    print('k = ', k, '\\trmse = ', np.sqrt(mean_squared_error(y_test, y_pred)), '\\n')"
   ]
  },
  {
   "cell_type": "markdown",
   "metadata": {},
   "source": [
    "Пока лучшее качество достигается при k = 10. Проверим, не будет ли роста качества с увеличением числа соседей?"
   ]
  },
  {
   "cell_type": "code",
   "execution_count": 65,
   "metadata": {},
   "outputs": [
    {
     "name": "stdout",
     "output_type": "stream",
     "text": [
      "k =  10 \trmse =  215.36188612194348 \n",
      "\n",
      "k =  20 \trmse =  209.29323304173462 \n",
      "\n",
      "k =  30 \trmse =  207.4911002235249 \n",
      "\n",
      "k =  40 \trmse =  206.56922915744428 \n",
      "\n",
      "k =  50 \trmse =  206.64073725680288 \n",
      "\n",
      "k =  60 \trmse =  207.185890450218 \n",
      "\n",
      "k =  70 \trmse =  207.05492634133265 \n",
      "\n",
      "k =  80 \trmse =  206.99443033140332 \n",
      "\n",
      "k =  90 \trmse =  206.90789177372253 \n",
      "\n",
      "k =  100 \trmse =  206.75601099026204 \n",
      "\n"
     ]
    }
   ],
   "source": [
    "for k in range(10, 110, 10):\n",
    "    regressor = KNNRegressor(n_neighbors=k, metric='overlap', mode='uniform')\n",
    "    regressor.fit(X_categor_train, y_train)\n",
    "    y_pred = regressor.predict(X_categor_test)\n",
    "    print('k = ', k, '\\trmse = ', np.sqrt(mean_squared_error(y_test, y_pred)), '\\n')"
   ]
  },
  {
   "cell_type": "markdown",
   "metadata": {},
   "source": [
    "Можно заметить, что мы вышли на плато по показателям. Поэтому остановимся на 100 соседях. Удалось достигнуть качества 206.75."
   ]
  },
  {
   "cell_type": "code",
   "execution_count": 66,
   "metadata": {},
   "outputs": [
    {
     "name": "stdout",
     "output_type": "stream",
     "text": [
      "k =  1 \trmse =  266.1643841280811 \n",
      "\n",
      "k =  2 \trmse =  227.07152313171358 \n",
      "\n",
      "k =  3 \trmse =  215.64604598107528 \n",
      "\n",
      "k =  4 \trmse =  223.25032657918067 \n",
      "\n",
      "k =  5 \trmse =  218.84009791921335 \n",
      "\n",
      "k =  6 \trmse =  215.1337565797004 \n",
      "\n",
      "k =  7 \trmse =  213.33849829948875 \n",
      "\n",
      "k =  8 \trmse =  210.70617022532568 \n",
      "\n",
      "k =  9 \trmse =  210.0576553343271 \n",
      "\n",
      "k =  10 \trmse =  208.58447344062247 \n",
      "\n"
     ]
    }
   ],
   "source": [
    "for k in range(1, 11):\n",
    "    regressor = KNNRegressor(n_neighbors=k, metric='flattened_overlap', mode='uniform', metric_params={\"p_array\": p_array})\n",
    "    regressor.fit(X_categor_train, y_train)\n",
    "    y_pred = regressor.predict(X_categor_test)\n",
    "    print('k = ', k, '\\trmse = ', np.sqrt(mean_squared_error(y_test, y_pred)), '\\n')"
   ]
  },
  {
   "cell_type": "code",
   "execution_count": 67,
   "metadata": {},
   "outputs": [
    {
     "name": "stdout",
     "output_type": "stream",
     "text": [
      "k =  20 \trmse =  206.66071592239277 \n",
      "\n",
      "k =  30 \trmse =  205.97057042000063 \n",
      "\n",
      "k =  40 \trmse =  205.31620979136852 \n",
      "\n",
      "k =  50 \trmse =  205.22819030409516 \n",
      "\n",
      "k =  60 \trmse =  205.43542298844238 \n",
      "\n",
      "k =  70 \trmse =  205.58085307322324 \n",
      "\n",
      "k =  80 \trmse =  205.6638533467797 \n",
      "\n",
      "k =  90 \trmse =  205.8867775241738 \n",
      "\n",
      "k =  100 \trmse =  206.01616974916917 \n",
      "\n"
     ]
    }
   ],
   "source": [
    "for k in range(20, 110, 10):\n",
    "    regressor = KNNRegressor(n_neighbors=k, metric='flattened_overlap', mode='uniform', metric_params={\"p_array\": p_array})\n",
    "    regressor.fit(X_categor_train, y_train)\n",
    "    y_pred = regressor.predict(X_categor_test)\n",
    "    print('k = ', k, '\\trmse = ', np.sqrt(mean_squared_error(y_test, y_pred)), '\\n')"
   ]
  },
  {
   "cell_type": "markdown",
   "metadata": {},
   "source": [
    "Видим, что показатели примерно одинаковые. Остановимся на 50 соседях."
   ]
  },
  {
   "cell_type": "code",
   "execution_count": 68,
   "metadata": {},
   "outputs": [
    {
     "name": "stdout",
     "output_type": "stream",
     "text": [
      "k =  1 \trmse =  270.3541285608811 \n",
      "\n",
      "k =  2 \trmse =  231.24643182084458 \n",
      "\n",
      "k =  3 \trmse =  218.57825026470107 \n",
      "\n",
      "k =  4 \trmse =  228.10907827010263 \n",
      "\n",
      "k =  5 \trmse =  221.90256929502056 \n",
      "\n",
      "k =  6 \trmse =  218.73715615864148 \n",
      "\n",
      "k =  7 \trmse =  214.80557240783583 \n",
      "\n",
      "k =  8 \trmse =  213.68440610596846 \n",
      "\n",
      "k =  9 \trmse =  213.52151940134698 \n",
      "\n",
      "k =  10 \trmse =  212.20956951422968 \n",
      "\n"
     ]
    }
   ],
   "source": [
    "for k in range(1, 11):\n",
    "    regressor = KNNRegressor(n_neighbors=k, metric='log_overlap', mode='uniform', metric_params={\"f_x\": f_x, \"f_z\": f_z})\n",
    "    regressor.fit(X_categor_train, y_train)\n",
    "    y_pred = regressor.predict(X_categor_test)\n",
    "    print('k = ', k, '\\trmse = ', np.sqrt(mean_squared_error(y_test, y_pred)), '\\n')"
   ]
  },
  {
   "cell_type": "markdown",
   "metadata": {},
   "source": [
    "Можно заметить, что при увеличении числа соседей результат стабильно улучшается. "
   ]
  },
  {
   "cell_type": "code",
   "execution_count": 69,
   "metadata": {},
   "outputs": [
    {
     "name": "stdout",
     "output_type": "stream",
     "text": [
      "k =  20 \trmse =  212.92184838455847 \n",
      "\n",
      "k =  30 \trmse =  209.2214823822075 \n",
      "\n",
      "k =  40 \trmse =  208.32667256898281 \n",
      "\n",
      "k =  50 \trmse =  207.43814431360596 \n",
      "\n",
      "k =  60 \trmse =  207.3703508443617 \n",
      "\n",
      "k =  70 \trmse =  207.2021066822786 \n",
      "\n",
      "k =  80 \trmse =  206.799046477721 \n",
      "\n",
      "k =  90 \trmse =  206.53216457948412 \n",
      "\n",
      "k =  100 \trmse =  206.51977048553368 \n",
      "\n"
     ]
    }
   ],
   "source": [
    "for k in range(20, 110, 10):\n",
    "    regressor = KNNRegressor(n_neighbors=k, metric='log_overlap', mode='uniform', metric_params={\"f_x\": f_x, \"f_z\": f_z})\n",
    "    regressor.fit(X_categor_train, y_train)\n",
    "    y_pred = regressor.predict(X_categor_test)\n",
    "    print('k = ', k, '\\trmse = ', np.sqrt(mean_squared_error(y_test, y_pred)), '\\n')"
   ]
  },
  {
   "cell_type": "markdown",
   "metadata": {},
   "source": [
    "Получаем лучший результат при 100 соседях: 162.2."
   ]
  },
  {
   "cell_type": "markdown",
   "metadata": {},
   "source": [
    "<b>2.4 (2.5 балла)</b> Отойдем ненадолго от задачи регрессии и перейдём к задаче классификации: будем определять, является ли квартира дорогой $(target = 1)$ или дешевой $(target = 0)$. Будем считать дорогими квариры, цена которых выше среднего."
   ]
  },
  {
   "cell_type": "code",
   "execution_count": 70,
   "metadata": {},
   "outputs": [],
   "source": [
    "data['target'] = (data.price > data.price.mean()).astype(int)"
   ]
  },
  {
   "cell_type": "markdown",
   "metadata": {},
   "source": [
    "Реализуйте счетчики, которые заменят категориальные признаки на вещественные.\n",
    "\n",
    "А именно, для каждого категориального признака $f_j(x)$ необходимо сделать следующее:\n",
    "1. Число `counts` объектов в обучающей выборке с таким же значением признака.\n",
    "\\begin{align}\n",
    "counts_j(c) = \\sum_{i=1}^l [f_j(x_i) = c]\n",
    "\\end{align}\n",
    "2. Число `successes` объектов первого класса ($y = 1$) в обучающей выборке с таким же значением признака.\n",
    "\\begin{align}\n",
    "successes_j(c) = \\sum_{i=1}^l[f_j(x_i) = c][y_i = +1].\n",
    "\\end{align}\n",
    "3. Сглаженное отношение двух предыдущих величин:\n",
    "\\begin{align}\n",
    "p_j(c) = \\frac{successes_j(c) + a}{counts_j(c) + b},\n",
    "\\end{align}\n",
    "\n",
    "где $a$ и $b$ - априорные счетчики (например, a = 1, b = 2)."
   ]
  },
  {
   "cell_type": "code",
   "execution_count": 71,
   "metadata": {},
   "outputs": [],
   "source": [
    "def counters(x_train, y, x_test=[], a=1, b=2, test=False):\n",
    "    \"\"\"\n",
    "    params:\n",
    "        x: value on categorical feature for N objects\n",
    "    returns: vector of length N\n",
    "    \"\"\"\n",
    "    x_train = np.array(x_train)\n",
    "    y = np.array(y)\n",
    "    if test:\n",
    "        x_test = np.array(x_test)\n",
    "        mask = x_test[:, None] == x_train\n",
    "        counts = np.sum(mask, axis=-2)\n",
    "        successes = np.zeros(x_test.shape)\n",
    "        i = 0\n",
    "        for elem in mask:\n",
    "            successes[i] = np.sum(elem * y[:, None], axis=-2)\n",
    "            i += 1\n",
    "        p = (successes + a) / (counts + b)\n",
    "        return np.hstack((counts, successes, p))\n",
    "    else:\n",
    "        mask = x_train[:, None] == x_train\n",
    "        counts = np.sum(mask, axis=0)\n",
    "        successes = np.zeros(x_train.shape)\n",
    "        i = 0\n",
    "        for elem in mask:\n",
    "            successes[i] = np.sum(elem * y[:, None], axis=0)\n",
    "            i += 1\n",
    "        p = (successes + a) / (counts + b)\n",
    "        return np.hstack((counts, successes, p))"
   ]
  },
  {
   "cell_type": "markdown",
   "metadata": {},
   "source": [
    "Поскольку признаки, содержащие информацию о целевой переменной, могут привести к переобучению, может оказаться полезным сделать *фолдинг*: разбить обучающую выборку на $n$ частей, и для $i$-й части считать `counts` и `successes` по всем остальным частям. Для тестовой выборки используются счетчики, посчитанные по всей обучающей выборке. Реализуйте и такой вариант. Достаточно взять $n = 3$."
   ]
  },
  {
   "cell_type": "code",
   "execution_count": 72,
   "metadata": {},
   "outputs": [],
   "source": [
    "def fold_counters(x_train, y, x_test=None, a=1, b=2, test=False):\n",
    "    \"\"\"\n",
    "    params:\n",
    "        x: value on categorical feature for N objects\n",
    "    returns: vector of length N\n",
    "    \"\"\"\n",
    "    x_train = np.array(x_train)\n",
    "    y = np.array(y)\n",
    "    if test:\n",
    "        return counters(x_train, y, x_test, test=test)\n",
    "    else:\n",
    "        step = x.shape[0] // 3\n",
    "        mask = x_train[:step, None] == x_train[step:]\n",
    "        counts = np.sum(mask, axis=-2)\n",
    "        successes = np.zeros(x_train[:step].shape)\n",
    "        i = 0\n",
    "        for elem in mask:\n",
    "            successes[i] = np.sum(elem * y[step:, None], axis=-2)\n",
    "            i += 1\n",
    "        p = (successes + a) / (counts + b)\n",
    "        left = step\n",
    "        while left < x_train.shape[0]:\n",
    "            right = left + step\n",
    "            arr = np.vstack((x_train[:left], x_train[right:]))\n",
    "            new_y = np.hstack((y[:left], y[right:]))\n",
    "            mask = x_train[left:right, None] == arr\n",
    "            new_counts = np.sum(mask, axis=-2)\n",
    "            new_successes = np.zeros(x_train[left:right].shape)\n",
    "            i = 0\n",
    "            for elem in mask:\n",
    "                new_successes[i] = np.sum(elem * new_y[:, None], axis=-2)\n",
    "                i += 1\n",
    "            new_p = (new_successes + a) / (new_counts + b)\n",
    "            counts = np.vstack((counts, new_counts))\n",
    "            successes = np.vstack((successes, new_successes))\n",
    "            p = np.vstack((p, new_p))\n",
    "            left = right\n",
    "        return np.hstack((counts, successes, p))"
   ]
  },
  {
   "cell_type": "markdown",
   "metadata": {},
   "source": [
    "Посчитайте на тесте AUC-ROC метода $k$ ближайших соседей с евклидовой метрикой для выборки, где категориальные признаки заменены на счетчики. Сравните по AUC-ROC два варианта формирования выборки — с фолдингом и без. Не забудьте подобрать наилучшее число соседей $k$."
   ]
  },
  {
   "cell_type": "code",
   "execution_count": 73,
   "metadata": {},
   "outputs": [],
   "source": [
    "X_clas_train, X_clas_test, y_clas_train, y_clas_test = train_test_split(data.drop(columns=['price']), data['target'],\n",
    "                                                    test_size=0.3, random_state=241)"
   ]
  },
  {
   "cell_type": "code",
   "execution_count": 74,
   "metadata": {},
   "outputs": [],
   "source": [
    "X_train_count = counters(X_clas_train[categorical], y_clas_train)"
   ]
  },
  {
   "cell_type": "code",
   "execution_count": 75,
   "metadata": {},
   "outputs": [],
   "source": [
    "X_test_count = counters(X_clas_train[categorical], y_clas_train, X_clas_test[categorical], test=True)"
   ]
  },
  {
   "cell_type": "code",
   "execution_count": 76,
   "metadata": {},
   "outputs": [
    {
     "name": "stdout",
     "output_type": "stream",
     "text": [
      "k =  10 \taccuracy =  0.8848410154403414 \n",
      "\n",
      "k =  20 \taccuracy =  0.8905239618223993 \n",
      "\n",
      "k =  30 \taccuracy =  0.8908301153206826 \n",
      "\n",
      "k =  40 \taccuracy =  0.8915568085351917 \n",
      "\n",
      "k =  50 \taccuracy =  0.8942290036346624 \n",
      "\n",
      "k =  60 \taccuracy =  0.8952956484758736 \n",
      "\n",
      "k =  70 \taccuracy =  0.8974631154701693 \n",
      "\n",
      "k =  80 \taccuracy =  0.8977669026043569 \n",
      "\n",
      "k =  90 \taccuracy =  0.8987155755475786 \n",
      "\n",
      "k =  100 \taccuracy =  0.8989810245724956 \n",
      "\n"
     ]
    }
   ],
   "source": [
    "for k in range(10, 110, 10):\n",
    "    neigh = KNeighborsClassifier(n_neighbors=k)\n",
    "    neigh.fit(X_train_count, y_clas_train)\n",
    "    y_pred = neigh.predict(X_test_count)\n",
    "    print('k = ', k, '\\taccuracy = ', np.sqrt(accuracy_score(y_clas_test, y_pred)), '\\n')"
   ]
  },
  {
   "cell_type": "markdown",
   "metadata": {},
   "source": [
    "С увеличением соседей качество постепенно растет, а затем остается примерно на одинаковом уровне. Построим AUC-ROC для 100 соседей."
   ]
  },
  {
   "cell_type": "code",
   "execution_count": 77,
   "metadata": {},
   "outputs": [],
   "source": [
    "neigh = KNeighborsClassifier(n_neighbors=100)\n",
    "neigh.fit(X_train_count, y_clas_train)\n",
    "y_pred = neigh.predict(X_test_count)"
   ]
  },
  {
   "cell_type": "code",
   "execution_count": 78,
   "metadata": {},
   "outputs": [],
   "source": [
    "import sklearn.metrics as metrics\n",
    "\n",
    "fpr, tpr, threshold = metrics.roc_curve(y_clas_test, y_pred)\n",
    "roc_auc = metrics.auc(fpr, tpr)"
   ]
  },
  {
   "cell_type": "code",
   "execution_count": 79,
   "metadata": {},
   "outputs": [
    {
     "data": {
      "image/png": "[encoded data removed]",
      "text/plain": [
       "<Figure size 432x288 with 1 Axes>"
      ]
     },
     "metadata": {
      "needs_background": "light"
     },
     "output_type": "display_data"
    }
   ],
   "source": [
    "plt.title('Receiver Operating Characteristic')\n",
    "plt.plot(fpr, tpr, 'b', label = 'AUC = %0.2f' % roc_auc)\n",
    "plt.legend(loc = 'lower right')\n",
    "plt.plot([0, 1], [0, 1],'r--')\n",
    "plt.xlim([0, 1])\n",
    "plt.ylim([0, 1])\n",
    "plt.ylabel('True Positive Rate')\n",
    "plt.xlabel('False Positive Rate')\n",
    "plt.show()"
   ]
  },
  {
   "cell_type": "code",
   "execution_count": 80,
   "metadata": {},
   "outputs": [],
   "source": [
    "X_train_fold_count = fold_counters(X_clas_train[categorical], y_clas_train)"
   ]
  },
  {
   "cell_type": "code",
   "execution_count": 81,
   "metadata": {},
   "outputs": [],
   "source": [
    "X_test_fold_count = fold_counters(X_clas_train[categorical], y_clas_train, X_clas_test[categorical], test=True)"
   ]
  },
  {
   "cell_type": "code",
   "execution_count": 82,
   "metadata": {},
   "outputs": [
    {
     "name": "stdout",
     "output_type": "stream",
     "text": [
      "k =  10 \taccuracy =  0.8804386018947145 \n",
      "\n",
      "k =  20 \taccuracy =  0.8832602180109232 \n",
      "\n",
      "k =  30 \taccuracy =  0.88576505121431 \n",
      "\n",
      "k =  40 \taccuracy =  0.8839545747554564 \n",
      "\n",
      "k =  50 \taccuracy =  0.8841088021970479 \n",
      "\n",
      "k =  60 \taccuracy =  0.8838774509430026 \n",
      "\n",
      "k =  70 \taccuracy =  0.8839160136903844 \n",
      "\n",
      "k =  80 \taccuracy =  0.8834917308936753 \n",
      "\n",
      "k =  90 \taccuracy =  0.882333559020345 \n",
      "\n",
      "k =  100 \taccuracy =  0.8834145666740517 \n",
      "\n"
     ]
    }
   ],
   "source": [
    "for k in range(10, 110, 10):\n",
    "    neigh = KNeighborsClassifier(n_neighbors=k)\n",
    "    neigh.fit(X_train_fold_count, y_clas_train)\n",
    "    y_pred = neigh.predict(X_test_fold_count)\n",
    "    print('k = ', k, '\\taccuracy = ', np.sqrt(accuracy_score(y_clas_test, y_pred)), '\\n')"
   ]
  },
  {
   "cell_type": "markdown",
   "metadata": {},
   "source": [
    "Построим AUC-ROC для 100 соседей:"
   ]
  },
  {
   "cell_type": "code",
   "execution_count": 83,
   "metadata": {},
   "outputs": [],
   "source": [
    "fpr, tpr, threshold = metrics.roc_curve(y_clas_test, y_pred)\n",
    "roc_auc = metrics.auc(fpr, tpr)"
   ]
  },
  {
   "cell_type": "code",
   "execution_count": 84,
   "metadata": {},
   "outputs": [
    {
     "data": {
      "image/png": "[encoded data removed]",
      "text/plain": [
       "<Figure size 432x288 with 1 Axes>"
      ]
     },
     "metadata": {
      "needs_background": "light"
     },
     "output_type": "display_data"
    }
   ],
   "source": [
    "plt.title('Receiver Operating Characteristic')\n",
    "plt.plot(fpr, tpr, 'b', label = 'AUC = %0.2f' % roc_auc)\n",
    "plt.legend(loc = 'lower right')\n",
    "plt.plot([0, 1], [0, 1],'r--')\n",
    "plt.xlim([0, 1])\n",
    "plt.ylim([0, 1])\n",
    "plt.ylabel('True Positive Rate')\n",
    "plt.xlabel('False Positive Rate')\n",
    "plt.show()"
   ]
  },
  {
   "cell_type": "markdown",
   "metadata": {},
   "source": [
    "<b>2.5 (1 балл)</b> Вернемся к задаче регрессии. Утверждается, что для задачи регрессии можно также сделать преобразование категориальных признаков в действительные числа. Для этого достаточно для каждого значения признака $f_j$ вычислить:\n",
    "\\begin{align}\n",
    "p_j(c) = g(T_i | f_j(x_i) = c),\n",
    "\\end{align}\n",
    "\n",
    "где $T_i$ - значения целевой переменной объекта $x_i$. Функция $g$ - среднее (mean) или среднеквадратичное отклонение (std).\n",
    "\n",
    "Закодируйте категориальные признаки обоими способами и найдите значение RMSE. Используйте евклидову метрику для поиска ближайших соседей. Для какой функции $g$ значение RMSE лучше? Почему?"
   ]
  },
  {
   "cell_type": "code",
   "execution_count": 85,
   "metadata": {},
   "outputs": [],
   "source": [
    "x = np.array(X_train[categorical])\n",
    "y = np.array(y_train)"
   ]
  },
  {
   "cell_type": "code",
   "execution_count": 86,
   "metadata": {},
   "outputs": [],
   "source": [
    "x_test = np.array(X_test[categorical])"
   ]
  },
  {
   "cell_type": "code",
   "execution_count": 87,
   "metadata": {},
   "outputs": [],
   "source": [
    "p_mean = np.zeros(x.shape)\n",
    "p_std = np.zeros(x.shape)\n",
    "i = 0\n",
    "for elem in x:\n",
    "    p_mean[i] = np.mean((elem == x) * y, axis=0)\n",
    "    p_std[i] = np.std((elem == x) * y, axis=0)\n",
    "    i += 1"
   ]
  },
  {
   "cell_type": "code",
   "execution_count": 88,
   "metadata": {},
   "outputs": [],
   "source": [
    "p_mean_test = np.zeros(x_test.shape)\n",
    "p_std_test = np.zeros(x_test.shape)\n",
    "i = 0\n",
    "for elem in x_test:\n",
    "    p_mean_test[i] = np.mean((elem == x) * y, axis=0)\n",
    "    p_std_test[i] = np.std((elem == x) * y, axis=0)\n",
    "    i += 1"
   ]
  },
  {
   "cell_type": "code",
   "execution_count": 89,
   "metadata": {},
   "outputs": [
    {
     "name": "stdout",
     "output_type": "stream",
     "text": [
      "k =  20 \trmse =  213.458904299475 \n",
      "\n",
      "k =  30 \trmse =  211.95172667605271 \n",
      "\n",
      "k =  40 \trmse =  211.06940095343225 \n",
      "\n",
      "k =  50 \trmse =  210.8097742286993 \n",
      "\n",
      "k =  60 \trmse =  210.5711069005607 \n",
      "\n",
      "k =  70 \trmse =  210.328160274706 \n",
      "\n",
      "k =  80 \trmse =  210.173259153049 \n",
      "\n",
      "k =  90 \trmse =  209.91685077359264 \n",
      "\n",
      "k =  100 \trmse =  209.65632345959952 \n",
      "\n"
     ]
    }
   ],
   "source": [
    "for k in range(20, 110, 10):\n",
    "    regressor = KNNRegressor(n_neighbors=k, metric='euclidean', mode='uniform')\n",
    "    regressor.fit(p_mean, y_train)\n",
    "    y_pred = regressor.predict(p_mean_test)\n",
    "    print('k = ', k, '\\trmse = ', np.sqrt(mean_squared_error(y_test, y_pred)), '\\n')"
   ]
  },
  {
   "cell_type": "code",
   "execution_count": 90,
   "metadata": {},
   "outputs": [
    {
     "name": "stdout",
     "output_type": "stream",
     "text": [
      "k =  20 \trmse =  212.6853429449709 \n",
      "\n",
      "k =  30 \trmse =  211.60510857989632 \n",
      "\n",
      "k =  40 \trmse =  211.12434410330803 \n",
      "\n",
      "k =  50 \trmse =  211.13792996693078 \n",
      "\n",
      "k =  60 \trmse =  211.37852067236184 \n",
      "\n",
      "k =  70 \trmse =  211.14844111078224 \n",
      "\n",
      "k =  80 \trmse =  210.93229221133586 \n",
      "\n",
      "k =  90 \trmse =  210.9903155967877 \n",
      "\n",
      "k =  100 \trmse =  210.87860133932293 \n",
      "\n"
     ]
    }
   ],
   "source": [
    "for k in range(20, 110, 10):\n",
    "    regressor = KNNRegressor(n_neighbors=k, metric='euclidean', mode='uniform')\n",
    "    regressor.fit(p_std, y_train)\n",
    "    y_pred = regressor.predict(p_std_test)\n",
    "    print('k = ', k, '\\trmse = ', np.sqrt(mean_squared_error(y_test, y_pred)), '\\n')"
   ]
  },
  {
   "cell_type": "markdown",
   "metadata": {},
   "source": [
    "Значение g оказалось лучше для g = mean, т.к. для средняя квадратичная ошибка как раз подразумевает поиск среднего. Кодирование средним значением сильнее приближает нас к целевой переменной. "
   ]
  },
  {
   "cell_type": "markdown",
   "metadata": {},
   "source": [
    "## Часть 3: Текстовые признаки"
   ]
  },
  {
   "cell_type": "markdown",
   "metadata": {},
   "source": [
    "<b>3.1 (2 балла)</b> Перейдем от категориальным признакам к текстовым. Рассмотрим 2 способа преобразования текста в действительные числа:\n",
    "- Мешок слов (Bag of Words)\n",
    "- TF-IDF\n",
    "\n",
    "[Здесь](https://scikit-learn.org/stable/modules/feature_extraction.html) вы можете прочитать про их применение в Питоне.\n",
    "\n",
    "Сравните оба способа на задаче регрессии. Какую лучше метрику использовать: евклидову или косинусную меру? Постройте графики зависимости качества решения задачи от способа преобразования, метрики и количества соседей. Мера качества - RMSE.\n",
    "\n",
    "Объясните полученные результаты.\n",
    "\n",
    "Перед преобразованием не забудьте уменьшить размер словаря. Например, это можно сделать за счет приведения всех слов к одному регистру и удаления [стопслов](https://en.wikipedia.org/wiki/Stop_words) (артиклей, предлогов, союзов). Можно использовать использовать, например, библиотеку nltk."
   ]
  },
  {
   "cell_type": "code",
   "execution_count": 91,
   "metadata": {},
   "outputs": [],
   "source": [
    "from sklearn.feature_extraction.text import CountVectorizer, TfidfVectorizer"
   ]
  },
  {
   "cell_type": "code",
   "execution_count": 92,
   "metadata": {},
   "outputs": [],
   "source": [
    "count_vect = CountVectorizer(lowercase=True, stop_words='english')\n",
    "X_train_counts = count_vect.fit_transform(X_train['name'])"
   ]
  },
  {
   "cell_type": "code",
   "execution_count": 93,
   "metadata": {},
   "outputs": [],
   "source": [
    "tfidfVect = TfidfVectorizer(lowercase=True, stop_words='english')\n",
    "X_train_tfidf = tfidfVect.fit_transform(X_train['name'])"
   ]
  },
  {
   "cell_type": "code",
   "execution_count": 94,
   "metadata": {},
   "outputs": [],
   "source": [
    "X_test_counts = count_vect.transform(X_test['name'])\n",
    "X_test_tfidf = tfidfVect.transform(X_test['name'])"
   ]
  },
  {
   "cell_type": "code",
   "execution_count": 95,
   "metadata": {},
   "outputs": [
    {
     "name": "stdout",
     "output_type": "stream",
     "text": [
      "k =  1 \trmse =  257.3701278544993 \n",
      "\n",
      "k =  2 \trmse =  236.08641248015022 \n",
      "\n",
      "k =  3 \trmse =  225.52112463488854 \n",
      "\n",
      "k =  4 \trmse =  226.69035989887587 \n",
      "\n",
      "k =  5 \trmse =  224.39243548282906 \n",
      "\n",
      "k =  6 \trmse =  220.14594016287046 \n",
      "\n",
      "k =  7 \trmse =  218.1031592741917 \n",
      "\n",
      "k =  8 \trmse =  216.62888067801597 \n",
      "\n",
      "k =  9 \trmse =  215.46166109922424 \n",
      "\n",
      "k =  10 \trmse =  214.77902895349382 \n",
      "\n"
     ]
    }
   ],
   "source": [
    "euclid_counts_accur = []\n",
    "for k in range(1, 11):\n",
    "    regressor = KNNRegressor(n_neighbors=k, metric='euclidean', mode='uniform')\n",
    "    regressor.fit(X_train_counts, y_train)\n",
    "    y_pred = regressor.predict(X_test_counts)\n",
    "    accur = np.sqrt(mean_squared_error(y_test, y_pred))\n",
    "    euclid_counts_accur.append(accur)\n",
    "    print('k = ', k, '\\trmse = ', accur, '\\n')"
   ]
  },
  {
   "cell_type": "code",
   "execution_count": 96,
   "metadata": {},
   "outputs": [
    {
     "name": "stdout",
     "output_type": "stream",
     "text": [
      "k =  1 \trmse =  267.6856884229871 \n",
      "\n",
      "k =  2 \trmse =  238.36468371359933 \n",
      "\n",
      "k =  3 \trmse =  226.10092309168041 \n",
      "\n",
      "k =  4 \trmse =  224.66516724267566 \n",
      "\n",
      "k =  5 \trmse =  217.58416250466004 \n",
      "\n",
      "k =  6 \trmse =  214.02143364050318 \n",
      "\n",
      "k =  7 \trmse =  213.5279865962538 \n",
      "\n",
      "k =  8 \trmse =  212.5072168801938 \n",
      "\n",
      "k =  9 \trmse =  211.50686546885615 \n",
      "\n",
      "k =  10 \trmse =  209.08964680779567 \n",
      "\n"
     ]
    }
   ],
   "source": [
    "cosine_counts_accur = []\n",
    "for k in range(1, 11):\n",
    "    regressor = KNNRegressor(n_neighbors=k, metric='cosine', mode='uniform')\n",
    "    regressor.fit(X_train_counts, y_train)\n",
    "    y_pred = regressor.predict(X_test_counts)\n",
    "    accur = np.sqrt(mean_squared_error(y_test, y_pred))\n",
    "    cosine_counts_accur.append(accur)\n",
    "    print('k = ', k, '\\trmse = ', accur, '\\n')"
   ]
  },
  {
   "cell_type": "code",
   "execution_count": 97,
   "metadata": {},
   "outputs": [
    {
     "name": "stdout",
     "output_type": "stream",
     "text": [
      "k =  1 \trmse =  323.04078297863316 \n",
      "\n",
      "k =  2 \trmse =  269.23202918846164 \n",
      "\n",
      "k =  3 \trmse =  245.4302343782814 \n",
      "\n",
      "k =  4 \trmse =  231.01285354122865 \n",
      "\n",
      "k =  5 \trmse =  222.63192067724233 \n",
      "\n",
      "k =  6 \trmse =  220.3371581068209 \n",
      "\n",
      "k =  7 \trmse =  218.04667008737874 \n",
      "\n",
      "k =  8 \trmse =  216.21790362794997 \n",
      "\n",
      "k =  9 \trmse =  215.11857254585973 \n",
      "\n",
      "k =  10 \trmse =  214.2738805816425 \n",
      "\n"
     ]
    }
   ],
   "source": [
    "euclid_tfidf_accur = []\n",
    "for k in range(1, 11):\n",
    "    regressor = KNNRegressor(n_neighbors=k, metric='euclidean', mode='uniform')\n",
    "    regressor.fit(X_train_tfidf, y_train)\n",
    "    y_pred = regressor.predict(X_test_tfidf)\n",
    "    accur = np.sqrt(mean_squared_error(y_test, y_pred))\n",
    "    euclid_tfidf_accur.append(accur)\n",
    "    print('k = ', k, '\\trmse = ', accur, '\\n')"
   ]
  },
  {
   "cell_type": "code",
   "execution_count": 98,
   "metadata": {},
   "outputs": [
    {
     "name": "stdout",
     "output_type": "stream",
     "text": [
      "k =  1 \trmse =  330.71578348038236 \n",
      "\n",
      "k =  2 \trmse =  272.29655127799435 \n",
      "\n",
      "k =  3 \trmse =  247.07931838966368 \n",
      "\n",
      "k =  4 \trmse =  231.49075663031653 \n",
      "\n",
      "k =  5 \trmse =  221.93814893744627 \n",
      "\n",
      "k =  6 \trmse =  217.48698430917617 \n",
      "\n",
      "k =  7 \trmse =  215.6790875334434 \n",
      "\n",
      "k =  8 \trmse =  212.60937574159635 \n",
      "\n",
      "k =  9 \trmse =  210.6193761579025 \n",
      "\n",
      "k =  10 \trmse =  209.68379239455956 \n",
      "\n"
     ]
    }
   ],
   "source": [
    "cosine_tfidf_accur = []\n",
    "for k in range(1, 11):\n",
    "    regressor = KNNRegressor(n_neighbors=k, metric='cosine', mode='uniform')\n",
    "    regressor.fit(X_train_tfidf, y_train)\n",
    "    y_pred = regressor.predict(X_test_tfidf)\n",
    "    accur = np.sqrt(mean_squared_error(y_test, y_pred))\n",
    "    cosine_tfidf_accur.append(accur)\n",
    "    print('k = ', k, '\\trmse = ', accur, '\\n')"
   ]
  },
  {
   "cell_type": "code",
   "execution_count": 99,
   "metadata": {},
   "outputs": [],
   "source": [
    "k_list = np.arange(1, 11)"
   ]
  },
  {
   "cell_type": "code",
   "execution_count": 100,
   "metadata": {},
   "outputs": [
    {
     "data": {
      "text/plain": [
       "<matplotlib.legend.Legend at 0x229a4e7dec8>"
      ]
     },
     "execution_count": 100,
     "metadata": {},
     "output_type": "execute_result"
    },
    {
     "data": {
      "image/png": "[encoded data removed]",
      "text/plain": [
       "<Figure size 1008x360 with 1 Axes>"
      ]
     },
     "metadata": {
      "needs_background": "light"
     },
     "output_type": "display_data"
    }
   ],
   "source": [
    "fig = plt.figure(figsize= (14,5))\n",
    "ax1 = fig.add_subplot(111)\n",
    "plt.tick_params(axis='both', which='major', labelsize=14)\n",
    "plt.title(\"Зависимость точности алгоритма от выбора преобразования выборки и метрики\", fontsize = 19)\n",
    "plt.xlabel(\"Количество соседей\", fontsize = 17) \n",
    "plt.ylabel(\"Ошибка (RMSE)\", fontsize = 17) \n",
    "sns.set_style(\"whitegrid\", {'axes.axisbelow': False, 'axes.grid': True})\n",
    "sns.set_palette('bright')\n",
    "ax1.plot(k_list, euclid_counts_accur, label = \"Euclidean Bag of Words\")\n",
    "ax1.plot(k_list, cosine_counts_accur, label = \"Cosine Bag of Words\")\n",
    "ax1.plot(k_list, euclid_tfidf_accur, label = \"Euclidean TfIdf\")\n",
    "ax1.plot(k_list, cosine_tfidf_accur, label = \"Cosine TfIdf\")\n",
    "ax1.legend(fontsize = 15)"
   ]
  },
  {
   "cell_type": "code",
   "execution_count": 101,
   "metadata": {},
   "outputs": [],
   "source": [
    "cosine_counts_accur = []\n",
    "for k in range(20, 110, 10):\n",
    "    regressor = KNNRegressor(n_neighbors=k, metric='cosine', mode='uniform')\n",
    "    regressor.fit(X_train_counts, y_train)\n",
    "    y_pred = regressor.predict(X_test_counts)\n",
    "    accur = np.sqrt(mean_squared_error(y_test, y_pred))\n",
    "    cosine_counts_accur.append(accur)"
   ]
  },
  {
   "cell_type": "code",
   "execution_count": 102,
   "metadata": {},
   "outputs": [],
   "source": [
    "cosine_tfidf_accur = []\n",
    "for k in range(20, 110, 10):\n",
    "    regressor = KNNRegressor(n_neighbors=k, metric='cosine', mode='uniform')\n",
    "    regressor.fit(X_train_tfidf, y_train)\n",
    "    y_pred = regressor.predict(X_test_tfidf)\n",
    "    accur = np.sqrt(mean_squared_error(y_test, y_pred))\n",
    "    cosine_tfidf_accur.append(accur)"
   ]
  },
  {
   "cell_type": "code",
   "execution_count": 103,
   "metadata": {},
   "outputs": [],
   "source": [
    "k_list = np.arange(20, 110, 10)"
   ]
  },
  {
   "cell_type": "code",
   "execution_count": 104,
   "metadata": {},
   "outputs": [
    {
     "data": {
      "text/plain": [
       "<matplotlib.legend.Legend at 0x229a607d188>"
      ]
     },
     "execution_count": 104,
     "metadata": {},
     "output_type": "execute_result"
    },
    {
     "data": {
      "image/png": "[encoded data removed]",
      "text/plain": [
       "<Figure size 1008x360 with 1 Axes>"
      ]
     },
     "metadata": {},
     "output_type": "display_data"
    }
   ],
   "source": [
    "fig = plt.figure(figsize= (14,5))\n",
    "ax1 = fig.add_subplot(111)\n",
    "plt.tick_params(axis='both', which='major', labelsize=14)\n",
    "plt.title(\"Зависимость точности алгоритма от выбора преобразования выборки и метрики\", fontsize = 19)\n",
    "plt.xlabel(\"Количество соседей\", fontsize = 17) \n",
    "plt.ylabel(\"Ошибка (RMSE)\", fontsize = 17) \n",
    "sns.set_style(\"whitegrid\", {'axes.axisbelow': False, 'axes.grid': True})\n",
    "sns.set_palette('bright')\n",
    "ax1.plot(k_list, cosine_counts_accur, label = \"Cosine Bag of Words\")\n",
    "ax1.plot(k_list, cosine_tfidf_accur, label = \"Cosine TfIdf\")\n",
    "ax1.legend(fontsize = 15)"
   ]
  },
  {
   "cell_type": "markdown",
   "metadata": {},
   "source": [
    "Получаем лучший результат при использовании Cosine Tfidf и 30 соседях. Этот результат  логичен, т.к. при использовании cosine метрики учитывается похожесть текста независимо от его длины. А Tfidf учитывает частоту слова, т.е. как часто слово встречается в тексте. Для более точного предсказания интересны более редкие слова, и Tfidf как раз позволяет это использовать."
   ]
  },
  {
   "cell_type": "markdown",
   "metadata": {},
   "source": [
    "<b>3.2 (1 балл)</b> Используя все доступные признаки, решите задачу регрессии. Для категориальных и текстовых признаков выберите лучшие преобразования (из сделанных раннее заданий). Повлияло ли добавление количественного признака на метрику качества?"
   ]
  },
  {
   "cell_type": "code",
   "execution_count": 105,
   "metadata": {},
   "outputs": [],
   "source": [
    "numeric = ['minimum_nights', 'number_of_reviews', 'reviews_per_month', 'calculated_host_listings_count', 'availability_365']\n",
    "X_train, X_test, y_train, y_test = train_test_split(data.drop(columns=['price']), data[['price']], \n",
    "                                                    test_size=0.3, random_state=241)\n",
    "X_train_numeric = np.array(X_train[numeric])\n",
    "X_test_numeric = np.array(X_test[numeric])"
   ]
  },
  {
   "cell_type": "code",
   "execution_count": 106,
   "metadata": {},
   "outputs": [],
   "source": [
    "x = np.array(X_train[categorical])\n",
    "p_mean = np.zeros(x.shape)\n",
    "i = 0\n",
    "for elem in x:\n",
    "    p_mean[i] = np.mean((elem == x) * y, axis=0)\n",
    "    i += 1"
   ]
  },
  {
   "cell_type": "code",
   "execution_count": 107,
   "metadata": {},
   "outputs": [],
   "source": [
    "x_test = np.array(X_test[categorical])\n",
    "p_mean_test = np.zeros(x_test.shape)\n",
    "i = 0\n",
    "for elem in x_test:\n",
    "    p_mean_test[i] = np.mean((elem == x) * y, axis=0)\n",
    "    p_std_test[i] = np.std((elem == x) * y, axis=0)\n",
    "    i += 1"
   ]
  },
  {
   "cell_type": "code",
   "execution_count": 108,
   "metadata": {},
   "outputs": [],
   "source": [
    "X_train_tfidf = tfidfVect.fit_transform(X_train['name'])\n",
    "X_test_tfidf = tfidfVect.transform(X_test['name'])"
   ]
  },
  {
   "cell_type": "code",
   "execution_count": 114,
   "metadata": {},
   "outputs": [
    {
     "name": "stdout",
     "output_type": "stream",
     "text": [
      "(34226, 5)\n",
      "(34226, 6430)\n",
      "(34226, 4)\n"
     ]
    }
   ],
   "source": [
    "print(X_train_numeric.shape)\n",
    "print(X_train_tfidf.shape)\n",
    "print(p_mean.shape)"
   ]
  },
  {
   "cell_type": "code",
   "execution_count": 111,
   "metadata": {},
   "outputs": [],
   "source": [
    "X_train_all = sp.hstack((X_train_tfidf, X_train_numeric, p_mean), format='csr')\n",
    "X_test_all = sp.hstack((X_test_tfidf, X_test_numeric, p_mean_test), format='csr')"
   ]
  },
  {
   "cell_type": "code",
   "execution_count": 116,
   "metadata": {},
   "outputs": [
    {
     "data": {
      "text/plain": [
       "(14669, 6439)"
      ]
     },
     "execution_count": 116,
     "metadata": {},
     "output_type": "execute_result"
    }
   ],
   "source": [
    "X_test_all.shape"
   ]
  },
  {
   "cell_type": "code",
   "execution_count": 143,
   "metadata": {},
   "outputs": [],
   "source": [
    "regressor = KNNRegressor(n_neighbors=100, metric='euclidean', mode='distance')\n",
    "regressor.fit(X_train_all, y_train)"
   ]
  },
  {
   "cell_type": "code",
   "execution_count": 144,
   "metadata": {},
   "outputs": [],
   "source": [
    "y_pred = regressor.predict(X_test_all)"
   ]
  },
  {
   "cell_type": "code",
   "execution_count": 145,
   "metadata": {},
   "outputs": [
    {
     "data": {
      "text/plain": [
       "17395.5092913924"
      ]
     },
     "execution_count": 145,
     "metadata": {},
     "output_type": "execute_result"
    }
   ],
   "source": [
    "accur = np.sqrt(mean_squared_error(y_test, y_pred))\n",
    "accur"
   ]
  },
  {
   "cell_type": "markdown",
   "metadata": {},
   "source": [
    "Использование количественных признаков позволило понизить ошибку, но незначительно."
   ]
  },
  {
   "cell_type": "markdown",
   "metadata": {},
   "source": [
    "## Часть 4: Выводы\n"
   ]
  },
  {
   "cell_type": "markdown",
   "metadata": {},
   "source": [
    "В данной работе были проанализированы различные преобразования категориальных и тестовых признаков, рассмотрены различные метрики и способы кодирования категориальных признаков. В результате было выявлено, что для категориальных признаков наивысшее качество показала метрика flattened_overlap, т.к. она позволяет учитывать частоту встреченных эелементов. \n",
    "Преобразование категриальных признаков в вещественные лучше выполнять с использованием функции mean, т.к. усреденный результат повышает качество предсказания.\n",
    "Для исследования текстовых признаков лучше всего использовать TF-IDF и косинусную метрику, т.к. первый параметр позволяет учитывать частоту встреченных слов (более редкие слова имеют более высокую важность для прогноза), а косинусная метрика позволяет не учитывать размер текста при исследовании его \"похожести\".\n",
    "Общий анализ показал, что для этой задачи knn оказался не самым эффективным алгоритмом, и RMSE все равно остается в окрестностях 200."
   ]
  }
 ],
 "metadata": {
  "kernelspec": {
   "display_name": "Python 3",
   "language": "python",
   "name": "python3"
  },
  "language_info": {
   "codemirror_mode": {
    "name": "ipython",
    "version": 3
   },
   "file_extension": ".py",
   "mimetype": "text/x-python",
   "name": "python",
   "nbconvert_exporter": "python",
   "pygments_lexer": "ipython3",
   "version": "3.7.4"
  }
 },
 "nbformat": 4,
 "nbformat_minor": 1
}
